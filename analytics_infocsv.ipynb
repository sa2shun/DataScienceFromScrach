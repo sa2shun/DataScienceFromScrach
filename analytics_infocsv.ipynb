{
  "nbformat": 4,
  "nbformat_minor": 0,
  "metadata": {
    "kernelspec": {
      "display_name": "Python 3",
      "language": "python",
      "name": "python3"
    },
    "language_info": {
      "codemirror_mode": {
        "name": "ipython",
        "version": 3
      },
      "file_extension": ".py",
      "mimetype": "text/x-python",
      "name": "python",
      "nbconvert_exporter": "python",
      "pygments_lexer": "ipython3",
      "version": "3.8.5"
    },
    "colab": {
      "name": "analytics_infocsv.ipynb のコピー",
      "provenance": [],
      "include_colab_link": true
    }
  },
  "cells": [
    {
      "cell_type": "markdown",
      "metadata": {
        "id": "view-in-github",
        "colab_type": "text"
      },
      "source": [
        "<a href=\"https://colab.research.google.com/github/sa2shun/DataScienceFromScrach/blob/master/analytics_infocsv.ipynb\" target=\"_parent\"><img src=\"https://colab.research.google.com/assets/colab-badge.svg\" alt=\"Open In Colab\"/></a>"
      ]
    },
    {
      "cell_type": "code",
      "metadata": {
        "id": "g4fN3yfbWSuH",
        "outputId": "0cca3ebd-2e38-42d3-9277-c12b396a691b",
        "colab": {
          "base_uri": "https://localhost:8080/"
        }
      },
      "source": [
        "#import the library\n",
        "import pandas as pd\n",
        "import numpy as np\n",
        "import matplotlib.pyplot as plt\n",
        "!pwd"
      ],
      "execution_count": null,
      "outputs": [
        {
          "output_type": "stream",
          "text": [
            "/content\n"
          ],
          "name": "stdout"
        }
      ]
    },
    {
      "cell_type": "code",
      "metadata": {
        "id": "20Ayh12EWSuM"
      },
      "source": [
        "#read the data\n",
        "df = pd.read_csv('info.csv')"
      ],
      "execution_count": null,
      "outputs": []
    },
    {
      "cell_type": "code",
      "metadata": {
        "id": "vCiJzaJdWSuP",
        "outputId": "f627f3b2-a13d-403c-875e-c1f18b95f015",
        "colab": {
          "base_uri": "https://localhost:8080/",
          "height": 224
        }
      },
      "source": [
        "#check the data\n",
        "df.head(5)"
      ],
      "execution_count": null,
      "outputs": [
        {
          "output_type": "execute_result",
          "data": {
            "text/html": [
              "<div>\n",
              "<style scoped>\n",
              "    .dataframe tbody tr th:only-of-type {\n",
              "        vertical-align: middle;\n",
              "    }\n",
              "\n",
              "    .dataframe tbody tr th {\n",
              "        vertical-align: top;\n",
              "    }\n",
              "\n",
              "    .dataframe thead th {\n",
              "        text-align: right;\n",
              "    }\n",
              "</style>\n",
              "<table border=\"1\" class=\"dataframe\">\n",
              "  <thead>\n",
              "    <tr style=\"text-align: right;\">\n",
              "      <th></th>\n",
              "      <th>raw_stem</th>\n",
              "      <th>raw_product_id</th>\n",
              "      <th>timestamp</th>\n",
              "      <th>received_date</th>\n",
              "      <th>product_type</th>\n",
              "      <th>camera_id</th>\n",
              "      <th>crop_type</th>\n",
              "      <th>camera_angle</th>\n",
              "      <th>product_id</th>\n",
              "      <th>stem</th>\n",
              "      <th>has_kizu_dakon</th>\n",
              "      <th>has_kizu_ware</th>\n",
              "      <th>has_kizu_zairyou</th>\n",
              "      <th>has_ignore_shallow</th>\n",
              "      <th>has_ignore_cutting</th>\n",
              "      <th>has_ignore_oil</th>\n",
              "      <th>has_sabi</th>\n",
              "      <th>has_unuse</th>\n",
              "      <th>is_anomaly_image</th>\n",
              "      <th>is_anomaly_product</th>\n",
              "      <th>data_block_id</th>\n",
              "    </tr>\n",
              "  </thead>\n",
              "  <tbody>\n",
              "    <tr>\n",
              "      <th>0</th>\n",
              "      <td>301_20200825125742545</td>\n",
              "      <td>301</td>\n",
              "      <td>20200825125742545</td>\n",
              "      <td>20201005</td>\n",
              "      <td>H</td>\n",
              "      <td>2</td>\n",
              "      <td>uncrop</td>\n",
              "      <td>0</td>\n",
              "      <td>20200825125742545</td>\n",
              "      <td>20200825125742545_2_0_uncrop</td>\n",
              "      <td>0</td>\n",
              "      <td>0</td>\n",
              "      <td>0</td>\n",
              "      <td>1</td>\n",
              "      <td>0</td>\n",
              "      <td>0</td>\n",
              "      <td>1</td>\n",
              "      <td>0</td>\n",
              "      <td>0.0</td>\n",
              "      <td>1.0</td>\n",
              "      <td>8</td>\n",
              "    </tr>\n",
              "    <tr>\n",
              "      <th>1</th>\n",
              "      <td>301_20200825125744498</td>\n",
              "      <td>301</td>\n",
              "      <td>20200825125744498</td>\n",
              "      <td>20201005</td>\n",
              "      <td>H</td>\n",
              "      <td>2</td>\n",
              "      <td>uncrop</td>\n",
              "      <td>1</td>\n",
              "      <td>20200825125742545</td>\n",
              "      <td>20200825125742545_2_1_uncrop</td>\n",
              "      <td>1</td>\n",
              "      <td>0</td>\n",
              "      <td>0</td>\n",
              "      <td>1</td>\n",
              "      <td>0</td>\n",
              "      <td>0</td>\n",
              "      <td>1</td>\n",
              "      <td>0</td>\n",
              "      <td>1.0</td>\n",
              "      <td>1.0</td>\n",
              "      <td>8</td>\n",
              "    </tr>\n",
              "    <tr>\n",
              "      <th>2</th>\n",
              "      <td>301_20200825125747298</td>\n",
              "      <td>301</td>\n",
              "      <td>20200825125747298</td>\n",
              "      <td>20201005</td>\n",
              "      <td>H</td>\n",
              "      <td>2</td>\n",
              "      <td>uncrop</td>\n",
              "      <td>2</td>\n",
              "      <td>20200825125742545</td>\n",
              "      <td>20200825125742545_2_2_uncrop</td>\n",
              "      <td>1</td>\n",
              "      <td>0</td>\n",
              "      <td>0</td>\n",
              "      <td>0</td>\n",
              "      <td>0</td>\n",
              "      <td>0</td>\n",
              "      <td>1</td>\n",
              "      <td>0</td>\n",
              "      <td>1.0</td>\n",
              "      <td>1.0</td>\n",
              "      <td>8</td>\n",
              "    </tr>\n",
              "    <tr>\n",
              "      <th>3</th>\n",
              "      <td>301_20200825125748732</td>\n",
              "      <td>301</td>\n",
              "      <td>20200825125748732</td>\n",
              "      <td>20201005</td>\n",
              "      <td>H</td>\n",
              "      <td>2</td>\n",
              "      <td>uncrop</td>\n",
              "      <td>3</td>\n",
              "      <td>20200825125742545</td>\n",
              "      <td>20200825125742545_2_3_uncrop</td>\n",
              "      <td>1</td>\n",
              "      <td>0</td>\n",
              "      <td>0</td>\n",
              "      <td>0</td>\n",
              "      <td>0</td>\n",
              "      <td>0</td>\n",
              "      <td>1</td>\n",
              "      <td>0</td>\n",
              "      <td>1.0</td>\n",
              "      <td>1.0</td>\n",
              "      <td>8</td>\n",
              "    </tr>\n",
              "    <tr>\n",
              "      <th>4</th>\n",
              "      <td>301_20200825125750683</td>\n",
              "      <td>301</td>\n",
              "      <td>20200825125750683</td>\n",
              "      <td>20201005</td>\n",
              "      <td>H</td>\n",
              "      <td>2</td>\n",
              "      <td>uncrop</td>\n",
              "      <td>4</td>\n",
              "      <td>20200825125742545</td>\n",
              "      <td>20200825125742545_2_4_uncrop</td>\n",
              "      <td>1</td>\n",
              "      <td>0</td>\n",
              "      <td>0</td>\n",
              "      <td>0</td>\n",
              "      <td>0</td>\n",
              "      <td>0</td>\n",
              "      <td>1</td>\n",
              "      <td>0</td>\n",
              "      <td>1.0</td>\n",
              "      <td>1.0</td>\n",
              "      <td>8</td>\n",
              "    </tr>\n",
              "  </tbody>\n",
              "</table>\n",
              "</div>"
            ],
            "text/plain": [
              "                raw_stem  raw_product_id  ...  is_anomaly_product  data_block_id\n",
              "0  301_20200825125742545             301  ...                 1.0              8\n",
              "1  301_20200825125744498             301  ...                 1.0              8\n",
              "2  301_20200825125747298             301  ...                 1.0              8\n",
              "3  301_20200825125748732             301  ...                 1.0              8\n",
              "4  301_20200825125750683             301  ...                 1.0              8\n",
              "\n",
              "[5 rows x 21 columns]"
            ]
          },
          "metadata": {
            "tags": []
          },
          "execution_count": 4
        }
      ]
    },
    {
      "cell_type": "code",
      "metadata": {
        "id": "GVRw-9WUWSuS",
        "outputId": "fdeffac1-e36a-4570-fc0e-06535432a6f8",
        "colab": {
          "base_uri": "https://localhost:8080/",
          "height": 35
        }
      },
      "source": [
        "df['crop_type'][1]"
      ],
      "execution_count": null,
      "outputs": [
        {
          "output_type": "execute_result",
          "data": {
            "application/vnd.google.colaboratory.intrinsic+json": {
              "type": "string"
            },
            "text/plain": [
              "'uncrop'"
            ]
          },
          "metadata": {
            "tags": []
          },
          "execution_count": 5
        }
      ]
    },
    {
      "cell_type": "code",
      "metadata": {
        "id": "LAV_2AZeWvDh"
      },
      "source": [
        "# To extract df_uncrop and df_tobu_or_ziku, df.loc is better than for loop\n",
        "df_uncrop = df.loc[df[\"crop_type\"] == \"uncrop\", :]\n",
        "df_tobu = df.loc[df[\"crop_type\"] == \"tobu\", :]\n",
        "df_ziku = df.loc[df[\"crop_type\"] == \"ziku\", :]\n",
        "df_tobu_or_ziku = pd.concat([df_tobu, df_ziku])"
      ],
      "execution_count": null,
      "outputs": []
    },
    {
      "cell_type": "code",
      "metadata": {
        "id": "004KcJ6qWSuY"
      },
      "source": [
        "#reset the index\n",
        "df_uncrop = df_uncrop.reset_index()\n",
        "df_tobu_or_ziku = df_tobu_or_ziku.reset_index()"
      ],
      "execution_count": null,
      "outputs": []
    },
    {
      "cell_type": "code",
      "metadata": {
        "id": "OOABuYDuWSua",
        "outputId": "a1925f49-616f-488b-b7a3-e971db5cdb7e",
        "colab": {
          "base_uri": "https://localhost:8080/"
        }
      },
      "source": [
        "#check the number of culumns\n",
        "print(f\"df_uncrop:{len(df_uncrop)},df_tobu_or_ziku:{len(df_tobu_or_ziku)}\")"
      ],
      "execution_count": null,
      "outputs": [
        {
          "output_type": "stream",
          "text": [
            "df_uncrop:4344,df_tobu_or_ziku:8688\n"
          ],
          "name": "stdout"
        }
      ]
    },
    {
      "cell_type": "code",
      "metadata": {
        "id": "DIwdFAMVWSud"
      },
      "source": [
        "# groupby is useful\n",
        "columns = ['has_kizu_dakon', \n",
        "           'has_kizu_ware', \n",
        "           'has_kizu_zairyou',\n",
        "           'has_ignore_shallow', \n",
        "           'has_ignore_cutting', \n",
        "           'has_ignore_oil',\n",
        "           'has_sabi',\n",
        "           'has_unuse']\n",
        "df_counter_uncrop = df_uncrop.groupby(\"camera_angle\").sum()\n",
        "df_counter_uncrop = df_counter_uncrop.loc[:, columns]"
      ],
      "execution_count": null,
      "outputs": []
    },
    {
      "cell_type": "code",
      "metadata": {
        "id": "4rWlN-V6WSuf",
        "outputId": "aeac5c3d-09b2-46f8-bb8d-4dc93ca1fadc",
        "colab": {
          "base_uri": "https://localhost:8080/",
          "height": 452
        }
      },
      "source": [
        "#Check the result\n",
        "df_counter_uncrop"
      ],
      "execution_count": null,
      "outputs": [
        {
          "output_type": "execute_result",
          "data": {
            "text/html": [
              "<div>\n",
              "<style scoped>\n",
              "    .dataframe tbody tr th:only-of-type {\n",
              "        vertical-align: middle;\n",
              "    }\n",
              "\n",
              "    .dataframe tbody tr th {\n",
              "        vertical-align: top;\n",
              "    }\n",
              "\n",
              "    .dataframe thead th {\n",
              "        text-align: right;\n",
              "    }\n",
              "</style>\n",
              "<table border=\"1\" class=\"dataframe\">\n",
              "  <thead>\n",
              "    <tr style=\"text-align: right;\">\n",
              "      <th></th>\n",
              "      <th>has_kizu_dakon</th>\n",
              "      <th>has_kizu_ware</th>\n",
              "      <th>has_kizu_zairyou</th>\n",
              "      <th>has_ignore_shallow</th>\n",
              "      <th>has_ignore_cutting</th>\n",
              "      <th>has_ignore_oil</th>\n",
              "      <th>has_sabi</th>\n",
              "      <th>has_unuse</th>\n",
              "    </tr>\n",
              "    <tr>\n",
              "      <th>camera_angle</th>\n",
              "      <th></th>\n",
              "      <th></th>\n",
              "      <th></th>\n",
              "      <th></th>\n",
              "      <th></th>\n",
              "      <th></th>\n",
              "      <th></th>\n",
              "      <th></th>\n",
              "    </tr>\n",
              "  </thead>\n",
              "  <tbody>\n",
              "    <tr>\n",
              "      <th>0.0</th>\n",
              "      <td>41.0</td>\n",
              "      <td>0.0</td>\n",
              "      <td>6.0</td>\n",
              "      <td>32.0</td>\n",
              "      <td>51.0</td>\n",
              "      <td>1.0</td>\n",
              "      <td>152.0</td>\n",
              "      <td>2.0</td>\n",
              "    </tr>\n",
              "    <tr>\n",
              "      <th>1.0</th>\n",
              "      <td>59.0</td>\n",
              "      <td>1.0</td>\n",
              "      <td>8.0</td>\n",
              "      <td>61.0</td>\n",
              "      <td>47.0</td>\n",
              "      <td>2.0</td>\n",
              "      <td>147.0</td>\n",
              "      <td>1.0</td>\n",
              "    </tr>\n",
              "    <tr>\n",
              "      <th>2.0</th>\n",
              "      <td>71.0</td>\n",
              "      <td>2.0</td>\n",
              "      <td>11.0</td>\n",
              "      <td>104.0</td>\n",
              "      <td>38.0</td>\n",
              "      <td>3.0</td>\n",
              "      <td>148.0</td>\n",
              "      <td>3.0</td>\n",
              "    </tr>\n",
              "    <tr>\n",
              "      <th>3.0</th>\n",
              "      <td>88.0</td>\n",
              "      <td>2.0</td>\n",
              "      <td>10.0</td>\n",
              "      <td>106.0</td>\n",
              "      <td>5.0</td>\n",
              "      <td>3.0</td>\n",
              "      <td>134.0</td>\n",
              "      <td>4.0</td>\n",
              "    </tr>\n",
              "    <tr>\n",
              "      <th>4.0</th>\n",
              "      <td>71.0</td>\n",
              "      <td>2.0</td>\n",
              "      <td>14.0</td>\n",
              "      <td>143.0</td>\n",
              "      <td>0.0</td>\n",
              "      <td>2.0</td>\n",
              "      <td>119.0</td>\n",
              "      <td>4.0</td>\n",
              "    </tr>\n",
              "    <tr>\n",
              "      <th>5.0</th>\n",
              "      <td>60.0</td>\n",
              "      <td>2.0</td>\n",
              "      <td>18.0</td>\n",
              "      <td>44.0</td>\n",
              "      <td>0.0</td>\n",
              "      <td>1.0</td>\n",
              "      <td>124.0</td>\n",
              "      <td>5.0</td>\n",
              "    </tr>\n",
              "    <tr>\n",
              "      <th>6.0</th>\n",
              "      <td>69.0</td>\n",
              "      <td>2.0</td>\n",
              "      <td>15.0</td>\n",
              "      <td>138.0</td>\n",
              "      <td>2.0</td>\n",
              "      <td>2.0</td>\n",
              "      <td>123.0</td>\n",
              "      <td>4.0</td>\n",
              "    </tr>\n",
              "    <tr>\n",
              "      <th>7.0</th>\n",
              "      <td>64.0</td>\n",
              "      <td>1.0</td>\n",
              "      <td>14.0</td>\n",
              "      <td>81.0</td>\n",
              "      <td>15.0</td>\n",
              "      <td>4.0</td>\n",
              "      <td>139.0</td>\n",
              "      <td>3.0</td>\n",
              "    </tr>\n",
              "    <tr>\n",
              "      <th>8.0</th>\n",
              "      <td>51.0</td>\n",
              "      <td>1.0</td>\n",
              "      <td>11.0</td>\n",
              "      <td>112.0</td>\n",
              "      <td>19.0</td>\n",
              "      <td>4.0</td>\n",
              "      <td>138.0</td>\n",
              "      <td>3.0</td>\n",
              "    </tr>\n",
              "    <tr>\n",
              "      <th>9.0</th>\n",
              "      <td>48.0</td>\n",
              "      <td>1.0</td>\n",
              "      <td>8.0</td>\n",
              "      <td>49.0</td>\n",
              "      <td>29.0</td>\n",
              "      <td>3.0</td>\n",
              "      <td>141.0</td>\n",
              "      <td>2.0</td>\n",
              "    </tr>\n",
              "    <tr>\n",
              "      <th>10.0</th>\n",
              "      <td>27.0</td>\n",
              "      <td>1.0</td>\n",
              "      <td>2.0</td>\n",
              "      <td>36.0</td>\n",
              "      <td>25.0</td>\n",
              "      <td>0.0</td>\n",
              "      <td>147.0</td>\n",
              "      <td>1.0</td>\n",
              "    </tr>\n",
              "    <tr>\n",
              "      <th>11.0</th>\n",
              "      <td>25.0</td>\n",
              "      <td>0.0</td>\n",
              "      <td>3.0</td>\n",
              "      <td>38.0</td>\n",
              "      <td>37.0</td>\n",
              "      <td>0.0</td>\n",
              "      <td>150.0</td>\n",
              "      <td>1.0</td>\n",
              "    </tr>\n",
              "  </tbody>\n",
              "</table>\n",
              "</div>"
            ],
            "text/plain": [
              "              has_kizu_dakon  has_kizu_ware  ...  has_sabi  has_unuse\n",
              "camera_angle                                 ...                     \n",
              "0.0                     41.0            0.0  ...     152.0        2.0\n",
              "1.0                     59.0            1.0  ...     147.0        1.0\n",
              "2.0                     71.0            2.0  ...     148.0        3.0\n",
              "3.0                     88.0            2.0  ...     134.0        4.0\n",
              "4.0                     71.0            2.0  ...     119.0        4.0\n",
              "5.0                     60.0            2.0  ...     124.0        5.0\n",
              "6.0                     69.0            2.0  ...     123.0        4.0\n",
              "7.0                     64.0            1.0  ...     139.0        3.0\n",
              "8.0                     51.0            1.0  ...     138.0        3.0\n",
              "9.0                     48.0            1.0  ...     141.0        2.0\n",
              "10.0                    27.0            1.0  ...     147.0        1.0\n",
              "11.0                    25.0            0.0  ...     150.0        1.0\n",
              "\n",
              "[12 rows x 8 columns]"
            ]
          },
          "metadata": {
            "tags": []
          },
          "execution_count": 33
        }
      ]
    },
    {
      "cell_type": "code",
      "metadata": {
        "id": "wA38xFdaapq8"
      },
      "source": [
        "df_counter_tobu = df_tobu.groupby(\"camera_angle\").sum()\n",
        "df_counter_tobu = df_counter_tobu.loc[:,columns]"
      ],
      "execution_count": null,
      "outputs": []
    },
    {
      "cell_type": "code",
      "metadata": {
        "id": "93BK4szgbE0n",
        "outputId": "ebdc75cb-981d-44c7-ce11-d63ceccb7bfd",
        "colab": {
          "base_uri": "https://localhost:8080/",
          "height": 452
        }
      },
      "source": [
        "df_counter_tobu"
      ],
      "execution_count": null,
      "outputs": [
        {
          "output_type": "execute_result",
          "data": {
            "text/html": [
              "<div>\n",
              "<style scoped>\n",
              "    .dataframe tbody tr th:only-of-type {\n",
              "        vertical-align: middle;\n",
              "    }\n",
              "\n",
              "    .dataframe tbody tr th {\n",
              "        vertical-align: top;\n",
              "    }\n",
              "\n",
              "    .dataframe thead th {\n",
              "        text-align: right;\n",
              "    }\n",
              "</style>\n",
              "<table border=\"1\" class=\"dataframe\">\n",
              "  <thead>\n",
              "    <tr style=\"text-align: right;\">\n",
              "      <th></th>\n",
              "      <th>has_kizu_dakon</th>\n",
              "      <th>has_kizu_ware</th>\n",
              "      <th>has_kizu_zairyou</th>\n",
              "      <th>has_ignore_shallow</th>\n",
              "      <th>has_ignore_cutting</th>\n",
              "      <th>has_ignore_oil</th>\n",
              "      <th>has_sabi</th>\n",
              "      <th>has_unuse</th>\n",
              "    </tr>\n",
              "    <tr>\n",
              "      <th>camera_angle</th>\n",
              "      <th></th>\n",
              "      <th></th>\n",
              "      <th></th>\n",
              "      <th></th>\n",
              "      <th></th>\n",
              "      <th></th>\n",
              "      <th></th>\n",
              "      <th></th>\n",
              "    </tr>\n",
              "  </thead>\n",
              "  <tbody>\n",
              "    <tr>\n",
              "      <th>0</th>\n",
              "      <td>22</td>\n",
              "      <td>0</td>\n",
              "      <td>1</td>\n",
              "      <td>25</td>\n",
              "      <td>68</td>\n",
              "      <td>2</td>\n",
              "      <td>261</td>\n",
              "      <td>7</td>\n",
              "    </tr>\n",
              "    <tr>\n",
              "      <th>1</th>\n",
              "      <td>58</td>\n",
              "      <td>1</td>\n",
              "      <td>4</td>\n",
              "      <td>78</td>\n",
              "      <td>61</td>\n",
              "      <td>6</td>\n",
              "      <td>252</td>\n",
              "      <td>6</td>\n",
              "    </tr>\n",
              "    <tr>\n",
              "      <th>2</th>\n",
              "      <td>67</td>\n",
              "      <td>2</td>\n",
              "      <td>7</td>\n",
              "      <td>206</td>\n",
              "      <td>48</td>\n",
              "      <td>7</td>\n",
              "      <td>244</td>\n",
              "      <td>7</td>\n",
              "    </tr>\n",
              "    <tr>\n",
              "      <th>3</th>\n",
              "      <td>82</td>\n",
              "      <td>2</td>\n",
              "      <td>9</td>\n",
              "      <td>182</td>\n",
              "      <td>6</td>\n",
              "      <td>6</td>\n",
              "      <td>220</td>\n",
              "      <td>6</td>\n",
              "    </tr>\n",
              "    <tr>\n",
              "      <th>4</th>\n",
              "      <td>62</td>\n",
              "      <td>2</td>\n",
              "      <td>9</td>\n",
              "      <td>274</td>\n",
              "      <td>0</td>\n",
              "      <td>3</td>\n",
              "      <td>192</td>\n",
              "      <td>7</td>\n",
              "    </tr>\n",
              "    <tr>\n",
              "      <th>5</th>\n",
              "      <td>41</td>\n",
              "      <td>2</td>\n",
              "      <td>11</td>\n",
              "      <td>26</td>\n",
              "      <td>0</td>\n",
              "      <td>2</td>\n",
              "      <td>204</td>\n",
              "      <td>9</td>\n",
              "    </tr>\n",
              "    <tr>\n",
              "      <th>6</th>\n",
              "      <td>74</td>\n",
              "      <td>2</td>\n",
              "      <td>8</td>\n",
              "      <td>264</td>\n",
              "      <td>5</td>\n",
              "      <td>4</td>\n",
              "      <td>202</td>\n",
              "      <td>7</td>\n",
              "    </tr>\n",
              "    <tr>\n",
              "      <th>7</th>\n",
              "      <td>88</td>\n",
              "      <td>1</td>\n",
              "      <td>9</td>\n",
              "      <td>128</td>\n",
              "      <td>23</td>\n",
              "      <td>8</td>\n",
              "      <td>245</td>\n",
              "      <td>5</td>\n",
              "    </tr>\n",
              "    <tr>\n",
              "      <th>8</th>\n",
              "      <td>60</td>\n",
              "      <td>1</td>\n",
              "      <td>6</td>\n",
              "      <td>212</td>\n",
              "      <td>27</td>\n",
              "      <td>7</td>\n",
              "      <td>246</td>\n",
              "      <td>4</td>\n",
              "    </tr>\n",
              "    <tr>\n",
              "      <th>9</th>\n",
              "      <td>69</td>\n",
              "      <td>1</td>\n",
              "      <td>2</td>\n",
              "      <td>39</td>\n",
              "      <td>40</td>\n",
              "      <td>7</td>\n",
              "      <td>249</td>\n",
              "      <td>5</td>\n",
              "    </tr>\n",
              "    <tr>\n",
              "      <th>10</th>\n",
              "      <td>22</td>\n",
              "      <td>1</td>\n",
              "      <td>1</td>\n",
              "      <td>7</td>\n",
              "      <td>32</td>\n",
              "      <td>1</td>\n",
              "      <td>261</td>\n",
              "      <td>4</td>\n",
              "    </tr>\n",
              "    <tr>\n",
              "      <th>11</th>\n",
              "      <td>3</td>\n",
              "      <td>0</td>\n",
              "      <td>1</td>\n",
              "      <td>3</td>\n",
              "      <td>47</td>\n",
              "      <td>0</td>\n",
              "      <td>266</td>\n",
              "      <td>4</td>\n",
              "    </tr>\n",
              "  </tbody>\n",
              "</table>\n",
              "</div>"
            ],
            "text/plain": [
              "              has_kizu_dakon  has_kizu_ware  ...  has_sabi  has_unuse\n",
              "camera_angle                                 ...                     \n",
              "0                         22              0  ...       261          7\n",
              "1                         58              1  ...       252          6\n",
              "2                         67              2  ...       244          7\n",
              "3                         82              2  ...       220          6\n",
              "4                         62              2  ...       192          7\n",
              "5                         41              2  ...       204          9\n",
              "6                         74              2  ...       202          7\n",
              "7                         88              1  ...       245          5\n",
              "8                         60              1  ...       246          4\n",
              "9                         69              1  ...       249          5\n",
              "10                        22              1  ...       261          4\n",
              "11                         3              0  ...       266          4\n",
              "\n",
              "[12 rows x 8 columns]"
            ]
          },
          "metadata": {
            "tags": []
          },
          "execution_count": 37
        }
      ]
    },
    {
      "cell_type": "code",
      "metadata": {
        "id": "W14BO2RidF8g"
      },
      "source": [
        "df_counter_ziku = df_ziku.groupby(\"camera_angle\").sum()\n",
        "df_counter_ziku = df_counter_ziku.loc[:,columns]"
      ],
      "execution_count": null,
      "outputs": []
    },
    {
      "cell_type": "code",
      "metadata": {
        "id": "DxBQoXnDdF_m",
        "outputId": "4fb862cf-3338-42e0-e170-e85c635b6b4e",
        "colab": {
          "base_uri": "https://localhost:8080/",
          "height": 452
        }
      },
      "source": [
        "df_counter_ziku"
      ],
      "execution_count": null,
      "outputs": [
        {
          "output_type": "execute_result",
          "data": {
            "text/html": [
              "<div>\n",
              "<style scoped>\n",
              "    .dataframe tbody tr th:only-of-type {\n",
              "        vertical-align: middle;\n",
              "    }\n",
              "\n",
              "    .dataframe tbody tr th {\n",
              "        vertical-align: top;\n",
              "    }\n",
              "\n",
              "    .dataframe thead th {\n",
              "        text-align: right;\n",
              "    }\n",
              "</style>\n",
              "<table border=\"1\" class=\"dataframe\">\n",
              "  <thead>\n",
              "    <tr style=\"text-align: right;\">\n",
              "      <th></th>\n",
              "      <th>has_kizu_dakon</th>\n",
              "      <th>has_kizu_ware</th>\n",
              "      <th>has_kizu_zairyou</th>\n",
              "      <th>has_ignore_shallow</th>\n",
              "      <th>has_ignore_cutting</th>\n",
              "      <th>has_ignore_oil</th>\n",
              "      <th>has_sabi</th>\n",
              "      <th>has_unuse</th>\n",
              "    </tr>\n",
              "    <tr>\n",
              "      <th>camera_angle</th>\n",
              "      <th></th>\n",
              "      <th></th>\n",
              "      <th></th>\n",
              "      <th></th>\n",
              "      <th></th>\n",
              "      <th></th>\n",
              "      <th></th>\n",
              "      <th></th>\n",
              "    </tr>\n",
              "  </thead>\n",
              "  <tbody>\n",
              "    <tr>\n",
              "      <th>0</th>\n",
              "      <td>39</td>\n",
              "      <td>0</td>\n",
              "      <td>13</td>\n",
              "      <td>66</td>\n",
              "      <td>0</td>\n",
              "      <td>1</td>\n",
              "      <td>261</td>\n",
              "      <td>7</td>\n",
              "    </tr>\n",
              "    <tr>\n",
              "      <th>1</th>\n",
              "      <td>40</td>\n",
              "      <td>0</td>\n",
              "      <td>14</td>\n",
              "      <td>65</td>\n",
              "      <td>0</td>\n",
              "      <td>1</td>\n",
              "      <td>252</td>\n",
              "      <td>6</td>\n",
              "    </tr>\n",
              "    <tr>\n",
              "      <th>2</th>\n",
              "      <td>48</td>\n",
              "      <td>0</td>\n",
              "      <td>18</td>\n",
              "      <td>61</td>\n",
              "      <td>0</td>\n",
              "      <td>0</td>\n",
              "      <td>244</td>\n",
              "      <td>7</td>\n",
              "    </tr>\n",
              "    <tr>\n",
              "      <th>3</th>\n",
              "      <td>67</td>\n",
              "      <td>0</td>\n",
              "      <td>18</td>\n",
              "      <td>63</td>\n",
              "      <td>0</td>\n",
              "      <td>0</td>\n",
              "      <td>220</td>\n",
              "      <td>6</td>\n",
              "    </tr>\n",
              "    <tr>\n",
              "      <th>4</th>\n",
              "      <td>73</td>\n",
              "      <td>0</td>\n",
              "      <td>21</td>\n",
              "      <td>65</td>\n",
              "      <td>0</td>\n",
              "      <td>0</td>\n",
              "      <td>192</td>\n",
              "      <td>7</td>\n",
              "    </tr>\n",
              "    <tr>\n",
              "      <th>5</th>\n",
              "      <td>65</td>\n",
              "      <td>0</td>\n",
              "      <td>24</td>\n",
              "      <td>63</td>\n",
              "      <td>0</td>\n",
              "      <td>0</td>\n",
              "      <td>204</td>\n",
              "      <td>9</td>\n",
              "    </tr>\n",
              "    <tr>\n",
              "      <th>6</th>\n",
              "      <td>62</td>\n",
              "      <td>0</td>\n",
              "      <td>20</td>\n",
              "      <td>57</td>\n",
              "      <td>0</td>\n",
              "      <td>1</td>\n",
              "      <td>202</td>\n",
              "      <td>7</td>\n",
              "    </tr>\n",
              "    <tr>\n",
              "      <th>7</th>\n",
              "      <td>48</td>\n",
              "      <td>0</td>\n",
              "      <td>15</td>\n",
              "      <td>52</td>\n",
              "      <td>0</td>\n",
              "      <td>1</td>\n",
              "      <td>245</td>\n",
              "      <td>5</td>\n",
              "    </tr>\n",
              "    <tr>\n",
              "      <th>8</th>\n",
              "      <td>44</td>\n",
              "      <td>0</td>\n",
              "      <td>12</td>\n",
              "      <td>55</td>\n",
              "      <td>0</td>\n",
              "      <td>2</td>\n",
              "      <td>246</td>\n",
              "      <td>4</td>\n",
              "    </tr>\n",
              "    <tr>\n",
              "      <th>9</th>\n",
              "      <td>43</td>\n",
              "      <td>0</td>\n",
              "      <td>10</td>\n",
              "      <td>60</td>\n",
              "      <td>0</td>\n",
              "      <td>2</td>\n",
              "      <td>249</td>\n",
              "      <td>5</td>\n",
              "    </tr>\n",
              "    <tr>\n",
              "      <th>10</th>\n",
              "      <td>46</td>\n",
              "      <td>0</td>\n",
              "      <td>7</td>\n",
              "      <td>65</td>\n",
              "      <td>0</td>\n",
              "      <td>1</td>\n",
              "      <td>261</td>\n",
              "      <td>4</td>\n",
              "    </tr>\n",
              "    <tr>\n",
              "      <th>11</th>\n",
              "      <td>42</td>\n",
              "      <td>0</td>\n",
              "      <td>8</td>\n",
              "      <td>67</td>\n",
              "      <td>0</td>\n",
              "      <td>1</td>\n",
              "      <td>266</td>\n",
              "      <td>4</td>\n",
              "    </tr>\n",
              "  </tbody>\n",
              "</table>\n",
              "</div>"
            ],
            "text/plain": [
              "              has_kizu_dakon  has_kizu_ware  ...  has_sabi  has_unuse\n",
              "camera_angle                                 ...                     \n",
              "0                         39              0  ...       261          7\n",
              "1                         40              0  ...       252          6\n",
              "2                         48              0  ...       244          7\n",
              "3                         67              0  ...       220          6\n",
              "4                         73              0  ...       192          7\n",
              "5                         65              0  ...       204          9\n",
              "6                         62              0  ...       202          7\n",
              "7                         48              0  ...       245          5\n",
              "8                         44              0  ...       246          4\n",
              "9                         43              0  ...       249          5\n",
              "10                        46              0  ...       261          4\n",
              "11                        42              0  ...       266          4\n",
              "\n",
              "[12 rows x 8 columns]"
            ]
          },
          "metadata": {
            "tags": []
          },
          "execution_count": 48
        }
      ]
    },
    {
      "cell_type": "code",
      "metadata": {
        "id": "JVatk3isWSui",
        "outputId": "b36c3f4d-477a-4ca5-f0bc-9c70aa692859",
        "colab": {
          "base_uri": "https://localhost:8080/",
          "height": 321
        }
      },
      "source": [
        "#plot the result\n",
        "x = df_counter_uncrop.index\n",
        "y = df_counter_uncrop['has_kizu_dakon']\n",
        "plt.title(\"Dakon Kizu(uncrop)\", fontsize=18)\n",
        "plt.xlabel(\"camera_angel\", fontsize=18)\n",
        "plt.ylabel(\"# of dakon_kizu\", fontsize=18)\n",
        "plt.tick_params(labelsize=7)\n",
        "plt.bar(x,y)\n",
        "plt.savefig(\"./Figure/Dakon_CamAngle.png\")\n",
        "\n",
        "print(sum(y))"
      ],
      "execution_count": null,
      "outputs": [
        {
          "output_type": "stream",
          "text": [
            "674.0\n"
          ],
          "name": "stdout"
        },
        {
          "output_type": "display_data",
          "data": {
            "image/png": "[encoded data removed]",
            "text/plain": [
              "<Figure size 432x288 with 1 Axes>"
            ]
          },
          "metadata": {
            "tags": [],
            "needs_background": "light"
          }
        }
      ]
    },
    {
      "cell_type": "code",
      "metadata": {
        "id": "T9o0vwBpb9I_",
        "outputId": "adb00e49-d22a-41cd-c938-c67e7baebb48",
        "colab": {
          "base_uri": "https://localhost:8080/",
          "height": 321
        }
      },
      "source": [
        "#plot the result\n",
        "x = df_counter_tobu.index\n",
        "y = df_counter_tobu['has_kizu_dakon']\n",
        "plt.title(\"Dakon Kizu(tobu)\", fontsize=18)\n",
        "plt.xlabel(\"camera_angel\", fontsize=18)\n",
        "plt.ylabel(\"# of dakon_kizu\", fontsize=18)\n",
        "plt.tick_params(labelsize=7)\n",
        "plt.bar(x,y)\n",
        "plt.savefig(\"./Figure/Dakon_CamAngle_tobu.png\")\n",
        "\n",
        "print(sum(y))"
      ],
      "execution_count": null,
      "outputs": [
        {
          "output_type": "stream",
          "text": [
            "648\n"
          ],
          "name": "stdout"
        },
        {
          "output_type": "display_data",
          "data": {
            "image/png": "[encoded data removed]",
            "text/plain": [
              "<Figure size 432x288 with 1 Axes>"
            ]
          },
          "metadata": {
            "tags": [],
            "needs_background": "light"
          }
        }
      ]
    },
    {
      "cell_type": "code",
      "metadata": {
        "id": "czD_IeocdV_V",
        "outputId": "5bad3fae-9eff-4510-f6d7-93b96734f5e0",
        "colab": {
          "base_uri": "https://localhost:8080/",
          "height": 321
        }
      },
      "source": [
        "#plot the result\n",
        "x = df_counter_ziku.index\n",
        "y = df_counter_ziku['has_kizu_dakon']\n",
        "plt.title(\"Dakon Kizu(ziku)\", fontsize=18)\n",
        "plt.xlabel(\"camera_angel\", fontsize=18)\n",
        "plt.ylabel(\"# of dakon_kizu\", fontsize=18)\n",
        "plt.tick_params(labelsize=7)\n",
        "plt.bar(x,y)\n",
        "plt.savefig(\"./Figure/Dakon_CamAngle_ziku.png\")\n",
        "\n",
        "print(sum(y))"
      ],
      "execution_count": null,
      "outputs": [
        {
          "output_type": "stream",
          "text": [
            "617\n"
          ],
          "name": "stdout"
        },
        {
          "output_type": "display_data",
          "data": {
            "image/png": "[encoded data removed]",
            "text/plain": [
              "<Figure size 432x288 with 1 Axes>"
            ]
          },
          "metadata": {
            "tags": [],
            "needs_background": "light"
          }
        }
      ]
    },
    {
      "cell_type": "code",
      "metadata": {
        "id": "AAYet7fqWSuk",
        "outputId": "62a440ff-1052-4b69-aa72-ac337f0463a4",
        "colab": {
          "base_uri": "https://localhost:8080/",
          "height": 321
        }
      },
      "source": [
        "#plot the result\n",
        "x = df_counter_tobu.index\n",
        "y = df_counter_tobu['has_kizu_ware']\n",
        "plt.title(\"Ware Kizu(tobu)\", fontsize=18)\n",
        "plt.xlabel(\"camera_angel\", fontsize=18)\n",
        "plt.ylabel(\"# of ware_kizu\", fontsize=18)\n",
        "plt.tick_params(labelsize=7)\n",
        "plt.bar(x,y)\n",
        "plt.savefig(\"./Figure/Ware_CamAngle_tobu.png\")\n",
        "\n",
        "print(sum(y))"
      ],
      "execution_count": null,
      "outputs": [
        {
          "output_type": "stream",
          "text": [
            "15\n"
          ],
          "name": "stdout"
        },
        {
          "output_type": "display_data",
          "data": {
            "image/png": "[encoded data removed]",
            "text/plain": [
              "<Figure size 432x288 with 1 Axes>"
            ]
          },
          "metadata": {
            "tags": [],
            "needs_background": "light"
          }
        }
      ]
    },
    {
      "cell_type": "code",
      "metadata": {
        "id": "Uc7RJVaTdeTM",
        "outputId": "9cbb25a1-1af5-479b-df4f-1f33620e5af5",
        "colab": {
          "base_uri": "https://localhost:8080/",
          "height": 321
        }
      },
      "source": [
        "#plot the result\n",
        "x = df_counter_ziku.index\n",
        "y = df_counter_ziku['has_kizu_ware']\n",
        "plt.title(\"Ware Kizu(ziku)\", fontsize=18)\n",
        "plt.xlabel(\"camera_angel\", fontsize=18)\n",
        "plt.ylabel(\"# of ware_kizu\", fontsize=18)\n",
        "plt.tick_params(labelsize=7)\n",
        "plt.bar(x,y)\n",
        "plt.savefig(\"./Figure/Ware_CamAngle_ziku.png\")\n",
        "\n",
        "print(sum(y))"
      ],
      "execution_count": null,
      "outputs": [
        {
          "output_type": "stream",
          "text": [
            "0\n"
          ],
          "name": "stdout"
        },
        {
          "output_type": "display_data",
          "data": {
            "image/png": "[encoded data removed]",
            "text/plain": [
              "<Figure size 432x288 with 1 Axes>"
            ]
          },
          "metadata": {
            "tags": [],
            "needs_background": "light"
          }
        }
      ]
    },
    {
      "cell_type": "code",
      "metadata": {
        "id": "H4dMuYaTcUqC",
        "outputId": "39aea1cf-afb6-4edc-af65-08b3a695d5a2",
        "colab": {
          "base_uri": "https://localhost:8080/",
          "height": 321
        }
      },
      "source": [
        "#plot the result\n",
        "x = df_counter_uncrop.index\n",
        "y = df_counter_uncrop['has_kizu_zairyou']\n",
        "plt.title(\"Zairyou Kizu(uncrop)\", fontsize=18)\n",
        "plt.xlabel(\"camera_angel\", fontsize=18)\n",
        "plt.ylabel(\"# of Zairyou_kizu\", fontsize=18)\n",
        "plt.tick_params(labelsize=7)\n",
        "plt.bar(x,y)\n",
        "plt.savefig(\"./Figure/Zairyou_CamAngle.png\")\n",
        "\n",
        "print(sum(y))"
      ],
      "execution_count": null,
      "outputs": [
        {
          "output_type": "stream",
          "text": [
            "120.0\n"
          ],
          "name": "stdout"
        },
        {
          "output_type": "display_data",
          "data": {
            "image/png": "[encoded data removed]",
            "text/plain": [
              "<Figure size 432x288 with 1 Axes>"
            ]
          },
          "metadata": {
            "tags": [],
            "needs_background": "light"
          }
        }
      ]
    },
    {
      "cell_type": "code",
      "metadata": {
        "id": "wLG4Uq9NWSum",
        "outputId": "c92fa7be-9dd3-46a9-b943-ac7d5b2bead5",
        "colab": {
          "base_uri": "https://localhost:8080/",
          "height": 321
        }
      },
      "source": [
        "#plot the result\n",
        "x = df_counter_tobu.index\n",
        "y = df_counter_tobu['has_kizu_zairyou']\n",
        "plt.title(\"Zairyou Kizu(tobu)\", fontsize=18)\n",
        "plt.xlabel(\"camera_angel\", fontsize=18)\n",
        "plt.ylabel(\"# of Zairyou_kizu\", fontsize=18)\n",
        "plt.tick_params(labelsize=7)\n",
        "plt.bar(x,y)\n",
        "plt.savefig(\"./Figure/Zairyou_CamAngle_tobu.png\")\n",
        "\n",
        "print(sum(y))"
      ],
      "execution_count": null,
      "outputs": [
        {
          "output_type": "stream",
          "text": [
            "68\n"
          ],
          "name": "stdout"
        },
        {
          "output_type": "display_data",
          "data": {
            "image/png": "[encoded data removed]",
            "text/plain": [
              "<Figure size 432x288 with 1 Axes>"
            ]
          },
          "metadata": {
            "tags": [],
            "needs_background": "light"
          }
        }
      ]
    },
    {
      "cell_type": "code",
      "metadata": {
        "id": "dY07Yt14dp9l",
        "outputId": "5d1b70bb-ff59-468a-9ddb-3af7f1a2176f",
        "colab": {
          "base_uri": "https://localhost:8080/",
          "height": 321
        }
      },
      "source": [
        "#plot the result\n",
        "x = df_counter_ziku.index\n",
        "y = df_counter_ziku['has_kizu_zairyou']\n",
        "plt.title(\"Zairyou Kizu(ziku)\", fontsize=18)\n",
        "plt.xlabel(\"camera_angel\", fontsize=18)\n",
        "plt.ylabel(\"# of Zairyou_kizu\", fontsize=18)\n",
        "plt.tick_params(labelsize=7)\n",
        "plt.bar(x,y)\n",
        "plt.savefig(\"./Figure/Zairyou_CamAngle_ziku.png\")\n",
        "\n",
        "print(sum(y))"
      ],
      "execution_count": null,
      "outputs": [
        {
          "output_type": "stream",
          "text": [
            "180\n"
          ],
          "name": "stdout"
        },
        {
          "output_type": "display_data",
          "data": {
            "image/png": "[encoded data removed]",
            "text/plain": [
              "<Figure size 432x288 with 1 Axes>"
            ]
          },
          "metadata": {
            "tags": [],
            "needs_background": "light"
          }
        }
      ]
    },
    {
      "cell_type": "code",
      "metadata": {
        "id": "p1pUxIv-XqEd",
        "outputId": "f36b59c9-de03-45cc-85cc-c1a0b3b244ef",
        "colab": {
          "base_uri": "https://localhost:8080/",
          "height": 321
        }
      },
      "source": [
        "#plot the result\n",
        "x = df_counter_uncrop.index\n",
        "y = df_counter_uncrop['has_ignore_shallow']\n",
        "plt.title(\"has_ignore_shallow(uncrop)\", fontsize=18)\n",
        "plt.xlabel(\"camera_angel\", fontsize=18)\n",
        "plt.ylabel(\"# of has_ignore_shallow\", fontsize=18)\n",
        "plt.tick_params(labelsize=7)\n",
        "plt.bar(x,y)\n",
        "plt.savefig(\"./Figure/ignore_shallow_CamAngle.png\")\n",
        "\n",
        "print(sum(y))"
      ],
      "execution_count": null,
      "outputs": [
        {
          "output_type": "stream",
          "text": [
            "944.0\n"
          ],
          "name": "stdout"
        },
        {
          "output_type": "display_data",
          "data": {
            "image/png": "[encoded data removed]",
            "text/plain": [
              "<Figure size 432x288 with 1 Axes>"
            ]
          },
          "metadata": {
            "tags": [],
            "needs_background": "light"
          }
        }
      ]
    },
    {
      "cell_type": "code",
      "metadata": {
        "id": "OOxfNQPFchxm",
        "outputId": "39777c2b-7e3e-4f4c-e54f-0184602e0bc9",
        "colab": {
          "base_uri": "https://localhost:8080/",
          "height": 321
        }
      },
      "source": [
        "#plot the result\n",
        "x = df_counter_tobu.index\n",
        "y = df_counter_tobu['has_ignore_shallow']\n",
        "plt.title(\"has_ignore_shallow(tobu)\", fontsize=18)\n",
        "plt.xlabel(\"camera_angel\", fontsize=18)\n",
        "plt.ylabel(\"# of has_ignore_shallow\", fontsize=18)\n",
        "plt.tick_params(labelsize=7)\n",
        "plt.bar(x,y)\n",
        "plt.savefig(\"./Figure/ignore_shallow_CamAngle_tobu.png\")\n",
        "\n",
        "print(sum(y))"
      ],
      "execution_count": null,
      "outputs": [
        {
          "output_type": "stream",
          "text": [
            "1444\n"
          ],
          "name": "stdout"
        },
        {
          "output_type": "display_data",
          "data": {
            "image/png": "[encoded data removed]",
            "text/plain": [
              "<Figure size 432x288 with 1 Axes>"
            ]
          },
          "metadata": {
            "tags": [],
            "needs_background": "light"
          }
        }
      ]
    },
    {
      "cell_type": "code",
      "metadata": {
        "id": "rNSto5FYd4Ff",
        "outputId": "17cd0a7a-9034-484b-907d-2fe7cbff835e",
        "colab": {
          "base_uri": "https://localhost:8080/",
          "height": 321
        }
      },
      "source": [
        "#plot the result\n",
        "x = df_counter_ziku.index\n",
        "y = df_counter_ziku['has_ignore_shallow']\n",
        "plt.title(\"has_ignore_shallow(ziku)\", fontsize=18)\n",
        "plt.xlabel(\"camera_angel\", fontsize=18)\n",
        "plt.ylabel(\"# of has_ignore_shallow\", fontsize=18)\n",
        "plt.tick_params(labelsize=7)\n",
        "plt.bar(x,y)\n",
        "plt.savefig(\"./Figure/ignore_shallow_CamAngle_ziku.png\")\n",
        "\n",
        "print(sum(y))"
      ],
      "execution_count": null,
      "outputs": [
        {
          "output_type": "stream",
          "text": [
            "739\n"
          ],
          "name": "stdout"
        },
        {
          "output_type": "display_data",
          "data": {
            "image/png": "[encoded data removed]",
            "text/plain": [
              "<Figure size 432x288 with 1 Axes>"
            ]
          },
          "metadata": {
            "tags": [],
            "needs_background": "light"
          }
        }
      ]
    },
    {
      "cell_type": "code",
      "metadata": {
        "id": "LzhTmApkYIMD",
        "outputId": "89f6cfda-21ee-4cf7-8a07-99136686a82d",
        "colab": {
          "base_uri": "https://localhost:8080/",
          "height": 321
        }
      },
      "source": [
        "#plot the result\n",
        "x = df_counter_uncrop.index\n",
        "y = df_counter_uncrop['has_ignore_cutting']\n",
        "plt.title(\"has_ignore_cutting(uncrop)\", fontsize=18)\n",
        "plt.xlabel(\"camera_angel\", fontsize=18)\n",
        "plt.ylabel(\"# of has_ignore_cutting\", fontsize=18)\n",
        "plt.tick_params(labelsize=7)\n",
        "plt.bar(x,y)\n",
        "plt.savefig(\"./Figure/ignore_cutting_CamAngle.png\")\n",
        "\n",
        "print(sum(y))"
      ],
      "execution_count": null,
      "outputs": [
        {
          "output_type": "stream",
          "text": [
            "268.0\n"
          ],
          "name": "stdout"
        },
        {
          "output_type": "display_data",
          "data": {
            "image/png": "[encoded data removed]",
            "text/plain": [
              "<Figure size 432x288 with 1 Axes>"
            ]
          },
          "metadata": {
            "tags": [],
            "needs_background": "light"
          }
        }
      ]
    },
    {
      "cell_type": "code",
      "metadata": {
        "id": "siOAjv4DcrS5",
        "outputId": "179b6e22-fb5c-4906-9787-c0729dd34548",
        "colab": {
          "base_uri": "https://localhost:8080/",
          "height": 321
        }
      },
      "source": [
        "#plot the result\n",
        "x = df_counter_tobu.index\n",
        "y = df_counter_tobu['has_ignore_cutting']\n",
        "plt.title(\"has_ignore_cutting(tobu)\", fontsize=18)\n",
        "plt.xlabel(\"camera_angel\", fontsize=18)\n",
        "plt.ylabel(\"# of has_ignore_cutting\", fontsize=18)\n",
        "plt.tick_params(labelsize=7)\n",
        "plt.bar(x,y)\n",
        "plt.savefig(\"./Figure/ignore_cutting_CamAngle_tobu.png\")\n",
        "\n",
        "print(sum(y))"
      ],
      "execution_count": null,
      "outputs": [
        {
          "output_type": "stream",
          "text": [
            "357\n"
          ],
          "name": "stdout"
        },
        {
          "output_type": "display_data",
          "data": {
            "image/png": "[encoded data removed]",
            "text/plain": [
              "<Figure size 432x288 with 1 Axes>"
            ]
          },
          "metadata": {
            "tags": [],
            "needs_background": "light"
          }
        }
      ]
    },
    {
      "cell_type": "code",
      "metadata": {
        "id": "XhZYdrcneAnY",
        "outputId": "fc3f2ed4-58f0-4e2f-bff0-747db881f1ad",
        "colab": {
          "base_uri": "https://localhost:8080/",
          "height": 321
        }
      },
      "source": [
        "#plot the result\n",
        "x = df_counter_ziku.index\n",
        "y = df_counter_ziku['has_ignore_cutting']\n",
        "plt.title(\"has_ignore_cutting(ziku)\", fontsize=18)\n",
        "plt.xlabel(\"camera_angel\", fontsize=18)\n",
        "plt.ylabel(\"# of has_ignore_cutting\", fontsize=18)\n",
        "plt.tick_params(labelsize=7)\n",
        "plt.bar(x,y)\n",
        "plt.savefig(\"./Figure/ignore_cutting_CamAngle_ziku.png\")\n",
        "\n",
        "print(sum(y))"
      ],
      "execution_count": null,
      "outputs": [
        {
          "output_type": "stream",
          "text": [
            "0\n"
          ],
          "name": "stdout"
        },
        {
          "output_type": "display_data",
          "data": {
            "image/png": "[encoded data removed]",
            "text/plain": [
              "<Figure size 432x288 with 1 Axes>"
            ]
          },
          "metadata": {
            "tags": [],
            "needs_background": "light"
          }
        }
      ]
    },
    {
      "cell_type": "code",
      "metadata": {
        "id": "MjFurC9hYUcd",
        "outputId": "787b1555-b015-4711-8d40-c87782f4866d",
        "colab": {
          "base_uri": "https://localhost:8080/",
          "height": 321
        }
      },
      "source": [
        "#plot the result\n",
        "x = df_counter_uncrop.index\n",
        "y = df_counter_uncrop['has_ignore_oil']\n",
        "plt.title(\"has_ignore_oil(uncrop)\", fontsize=18)\n",
        "plt.xlabel(\"camera_angel\", fontsize=18)\n",
        "plt.ylabel(\"# of has_ignore_oil\", fontsize=18)\n",
        "plt.tick_params(labelsize=7)\n",
        "plt.bar(x,y)\n",
        "plt.savefig(\"./Figure/ignore_oil_CamAngle.png\")\n",
        "\n",
        "print(sum(y))"
      ],
      "execution_count": null,
      "outputs": [
        {
          "output_type": "stream",
          "text": [
            "25.0\n"
          ],
          "name": "stdout"
        },
        {
          "output_type": "display_data",
          "data": {
            "image/png": "[encoded data removed]",
            "text/plain": [
              "<Figure size 432x288 with 1 Axes>"
            ]
          },
          "metadata": {
            "tags": [],
            "needs_background": "light"
          }
        }
      ]
    },
    {
      "cell_type": "code",
      "metadata": {
        "id": "_OxDbKSYc3KH",
        "outputId": "9d66a34c-6a66-4bbb-8448-aad784b1d2ea",
        "colab": {
          "base_uri": "https://localhost:8080/",
          "height": 321
        }
      },
      "source": [
        "#plot the result\n",
        "x = df_counter_tobu.index\n",
        "y = df_counter_tobu['has_ignore_oil']\n",
        "plt.title(\"has_ignore_oil(tobu)\", fontsize=18)\n",
        "plt.xlabel(\"camera_angel\", fontsize=18)\n",
        "plt.ylabel(\"# of has_ignore_oil\", fontsize=18)\n",
        "plt.tick_params(labelsize=7)\n",
        "plt.bar(x,y)\n",
        "plt.savefig(\"./Figure/ignore_oil_CamAngle_tobu.png\")\n",
        "\n",
        "print(sum(y))"
      ],
      "execution_count": null,
      "outputs": [
        {
          "output_type": "stream",
          "text": [
            "53\n"
          ],
          "name": "stdout"
        },
        {
          "output_type": "display_data",
          "data": {
            "image/png": "[encoded data removed]",
            "text/plain": [
              "<Figure size 432x288 with 1 Axes>"
            ]
          },
          "metadata": {
            "tags": [],
            "needs_background": "light"
          }
        }
      ]
    },
    {
      "cell_type": "code",
      "metadata": {
        "id": "hoMmPce7eMRH",
        "outputId": "974b4c3b-fb12-42b8-ab68-0fce47bcd3cc",
        "colab": {
          "base_uri": "https://localhost:8080/",
          "height": 321
        }
      },
      "source": [
        "#plot the result\n",
        "x = df_counter_ziku.index\n",
        "y = df_counter_ziku['has_ignore_oil']\n",
        "plt.title(\"has_ignore_oil(ziku)\", fontsize=18)\n",
        "plt.xlabel(\"camera_angel\", fontsize=18)\n",
        "plt.ylabel(\"# of has_ignore_oil\", fontsize=18)\n",
        "plt.tick_params(labelsize=7)\n",
        "plt.bar(x,y)\n",
        "plt.savefig(\"./Figure/ignore_oil_CamAngle_ziku.png\")\n",
        "\n",
        "print(sum(y))"
      ],
      "execution_count": null,
      "outputs": [
        {
          "output_type": "stream",
          "text": [
            "10\n"
          ],
          "name": "stdout"
        },
        {
          "output_type": "display_data",
          "data": {
            "image/png": "[encoded data removed]",
            "text/plain": [
              "<Figure size 432x288 with 1 Axes>"
            ]
          },
          "metadata": {
            "tags": [],
            "needs_background": "light"
          }
        }
      ]
    },
    {
      "cell_type": "code",
      "metadata": {
        "id": "XZ64VFT1WSup",
        "outputId": "61b9aa93-8bea-4cbb-e43a-e58e8cb734a4",
        "colab": {
          "base_uri": "https://localhost:8080/",
          "height": 421
        }
      },
      "source": [
        "anomaly_count = pd.DataFrame(np.zeros(24).reshape(12,2),\n",
        "                            columns=['nomaly','anomaly'],\n",
        "                            index=['cam_0', 'cam_1','cam_2','cam_3','cam_4','cam_5','cam_6','cam_7','cam_8','cam_9','cam_10','cam_11'])\n",
        "for i in range(len(df)):\n",
        "    if df['is_anomaly_image'][i] == 1.0:\n",
        "        anomaly_count['anomaly'][df['camera_angle'][i]] += 1\n",
        "    else:\n",
        "        anomaly_count['nomaly'][df['camera_angle'][i]] += 1\n",
        "\n",
        "anomaly_count"
      ],
      "execution_count": null,
      "outputs": [
        {
          "output_type": "execute_result",
          "data": {
            "text/html": [
              "<div>\n",
              "<style scoped>\n",
              "    .dataframe tbody tr th:only-of-type {\n",
              "        vertical-align: middle;\n",
              "    }\n",
              "\n",
              "    .dataframe tbody tr th {\n",
              "        vertical-align: top;\n",
              "    }\n",
              "\n",
              "    .dataframe thead th {\n",
              "        text-align: right;\n",
              "    }\n",
              "</style>\n",
              "<table border=\"1\" class=\"dataframe\">\n",
              "  <thead>\n",
              "    <tr style=\"text-align: right;\">\n",
              "      <th></th>\n",
              "      <th>nomaly</th>\n",
              "      <th>anomaly</th>\n",
              "    </tr>\n",
              "  </thead>\n",
              "  <tbody>\n",
              "    <tr>\n",
              "      <th>cam_0</th>\n",
              "      <td>942.0</td>\n",
              "      <td>144.0</td>\n",
              "    </tr>\n",
              "    <tr>\n",
              "      <th>cam_1</th>\n",
              "      <td>869.0</td>\n",
              "      <td>217.0</td>\n",
              "    </tr>\n",
              "    <tr>\n",
              "      <th>cam_2</th>\n",
              "      <td>826.0</td>\n",
              "      <td>260.0</td>\n",
              "    </tr>\n",
              "    <tr>\n",
              "      <th>cam_3</th>\n",
              "      <td>762.0</td>\n",
              "      <td>324.0</td>\n",
              "    </tr>\n",
              "    <tr>\n",
              "      <th>cam_4</th>\n",
              "      <td>789.0</td>\n",
              "      <td>297.0</td>\n",
              "    </tr>\n",
              "    <tr>\n",
              "      <th>cam_5</th>\n",
              "      <td>834.0</td>\n",
              "      <td>252.0</td>\n",
              "    </tr>\n",
              "    <tr>\n",
              "      <th>cam_6</th>\n",
              "      <td>787.0</td>\n",
              "      <td>299.0</td>\n",
              "    </tr>\n",
              "    <tr>\n",
              "      <th>cam_7</th>\n",
              "      <td>796.0</td>\n",
              "      <td>290.0</td>\n",
              "    </tr>\n",
              "    <tr>\n",
              "      <th>cam_8</th>\n",
              "      <td>857.0</td>\n",
              "      <td>229.0</td>\n",
              "    </tr>\n",
              "    <tr>\n",
              "      <th>cam_9</th>\n",
              "      <td>848.0</td>\n",
              "      <td>238.0</td>\n",
              "    </tr>\n",
              "    <tr>\n",
              "      <th>cam_10</th>\n",
              "      <td>935.0</td>\n",
              "      <td>151.0</td>\n",
              "    </tr>\n",
              "    <tr>\n",
              "      <th>cam_11</th>\n",
              "      <td>980.0</td>\n",
              "      <td>106.0</td>\n",
              "    </tr>\n",
              "  </tbody>\n",
              "</table>\n",
              "</div>"
            ],
            "text/plain": [
              "        nomaly  anomaly\n",
              "cam_0    942.0    144.0\n",
              "cam_1    869.0    217.0\n",
              "cam_2    826.0    260.0\n",
              "cam_3    762.0    324.0\n",
              "cam_4    789.0    297.0\n",
              "cam_5    834.0    252.0\n",
              "cam_6    787.0    299.0\n",
              "cam_7    796.0    290.0\n",
              "cam_8    857.0    229.0\n",
              "cam_9    848.0    238.0\n",
              "cam_10   935.0    151.0\n",
              "cam_11   980.0    106.0"
            ]
          },
          "metadata": {
            "tags": []
          },
          "execution_count": 17
        }
      ]
    },
    {
      "cell_type": "code",
      "metadata": {
        "id": "uyBipGgoYTsy"
      },
      "source": [
        ""
      ],
      "execution_count": null,
      "outputs": []
    },
    {
      "cell_type": "code",
      "metadata": {
        "id": "A9FkZ-UiWSur",
        "outputId": "946c533f-58fc-4777-de93-73cb91afa31c",
        "colab": {
          "base_uri": "https://localhost:8080/"
        }
      },
      "source": [
        "sum(anomaly_count['nomaly'])"
      ],
      "execution_count": null,
      "outputs": [
        {
          "output_type": "execute_result",
          "data": {
            "text/plain": [
              "10225.0"
            ]
          },
          "metadata": {
            "tags": []
          },
          "execution_count": 18
        }
      ]
    },
    {
      "cell_type": "code",
      "metadata": {
        "id": "dTtubrjnWSuu",
        "outputId": "365e272e-3269-4959-9f2f-31d8c1630c01",
        "colab": {
          "base_uri": "https://localhost:8080/"
        }
      },
      "source": [
        "sum(anomaly_count['anomaly'])"
      ],
      "execution_count": null,
      "outputs": [
        {
          "output_type": "execute_result",
          "data": {
            "text/plain": [
              "2807.0"
            ]
          },
          "metadata": {
            "tags": []
          },
          "execution_count": 19
        }
      ]
    },
    {
      "cell_type": "code",
      "metadata": {
        "id": "HywetbgVWSuw",
        "outputId": "b32f0a90-acb8-460b-b44f-65c3d4ebe2b5",
        "colab": {
          "base_uri": "https://localhost:8080/"
        }
      },
      "source": [
        "#Count the \"Actual\" number of wound\n",
        "'''\n",
        "I think the number of wound which I have calucualted ever is not the number of wound, because if there is wound at camera_angle \"3\", in most of case, the camera_angle \"2\" and \"4\" find \n",
        "the wound. So, the acutual the number of wound is \"1\",but now I counted 3.\n",
        "'''\n",
        "df2 = df_uncrop\n",
        "df2['new_dakon_kizu'] = 0\n",
        "\n",
        "'''\n",
        "new_dakon_kizu is an Acutual the number of kizu.\n",
        "\n",
        "         has_dakon_kizu new_dakon_kizu  \n",
        "cam_angle\n",
        "0              0             0\n",
        "1              1             1\n",
        "2              1             0\n",
        "3              0             0\n",
        "4              1      |\\     0\n",
        "5              1    |-  \\    1\n",
        "6              1    |-  /    0\n",
        "7              0      |/     0\n",
        "8              1             0\n",
        "9              1             1\n",
        "10             1             0\n",
        "11             1             0\n",
        "'''\n",
        "\n",
        "for i in range(0,df2.shape[0],12):\n",
        "    flag = 0\n",
        "    temp_cam_angle = 0\n",
        "    for k in range(12):\n",
        "        if df2['has_kizu_dakon'][i+k] == 1 and flag == 0:\n",
        "            flag = 1\n",
        "            temp_cam_id = i\n",
        "        if df2['has_kizu_dakon'][i+k] == 0 and flag == 1:\n",
        "            df2['new_dakon_kizu'][i+int((temp_cam_angle+k)/2)] = 1\n",
        "            flag = 0\n",
        "            temp_cam_angle = 0"
      ],
      "execution_count": null,
      "outputs": [
        {
          "output_type": "stream",
          "text": [
            "/usr/local/lib/python3.6/dist-packages/ipykernel_launcher.py:36: SettingWithCopyWarning: \n",
            "A value is trying to be set on a copy of a slice from a DataFrame\n",
            "\n",
            "See the caveats in the documentation: https://pandas.pydata.org/pandas-docs/stable/user_guide/indexing.html#returning-a-view-versus-a-copy\n"
          ],
          "name": "stderr"
        }
      ]
    },
    {
      "cell_type": "code",
      "metadata": {
        "id": "e8tmyRecWSux",
        "outputId": "9ac94f44-40d3-438e-f5e9-497c2ca5f107",
        "colab": {
          "base_uri": "https://localhost:8080/"
        }
      },
      "source": [
        "#check the new_dakon_kizu\n",
        "df2['new_dakon_kizu'].head(10)"
      ],
      "execution_count": null,
      "outputs": [
        {
          "output_type": "execute_result",
          "data": {
            "text/plain": [
              "0    0\n",
              "1    0\n",
              "2    0\n",
              "3    0\n",
              "4    1\n",
              "5    0\n",
              "6    0\n",
              "7    0\n",
              "8    0\n",
              "9    0\n",
              "Name: new_dakon_kizu, dtype: int64"
            ]
          },
          "metadata": {
            "tags": []
          },
          "execution_count": 21
        }
      ]
    },
    {
      "cell_type": "code",
      "metadata": {
        "id": "kAmjDvnGWSuz"
      },
      "source": [
        "#count actual the number of dakon kizu by camera_angle\n",
        "dakon_camera_num = [0 for _ in range(12)]\n",
        "for i in range(df2.shape[0]):\n",
        "    if df2['new_dakon_kizu'][i] == 1:\n",
        "        dakon_camera_num[int(df2['camera_angle'][i])] += 1"
      ],
      "execution_count": null,
      "outputs": []
    },
    {
      "cell_type": "code",
      "metadata": {
        "id": "4Jofh2SoWSu1",
        "outputId": "bbedb886-ed85-412f-bd77-0a70d4f4cce8",
        "colab": {
          "base_uri": "https://localhost:8080/"
        }
      },
      "source": [
        "dakon_camera_num"
      ],
      "execution_count": null,
      "outputs": [
        {
          "output_type": "execute_result",
          "data": {
            "text/plain": [
              "[13, 21, 73, 56, 58, 79, 0, 0, 0, 0, 0, 0]"
            ]
          },
          "metadata": {
            "tags": []
          },
          "execution_count": 23
        }
      ]
    },
    {
      "cell_type": "code",
      "metadata": {
        "id": "qDo-k6YBWSu3",
        "outputId": "5289af03-5a17-4eb5-85d5-47786c2a17ec",
        "colab": {
          "base_uri": "https://localhost:8080/"
        }
      },
      "source": [
        "#This is the same proces as dakon_kizu\n",
        "#ware\n",
        "df2['new_ware_kizu'] = 0\n",
        "for i in range(0,df2.shape[0],12):\n",
        "    flag = 0\n",
        "    temp_cam_angle = 0\n",
        "    for k in range(12):\n",
        "        if df2['has_kizu_ware'][i+k] == 1 and flag == 0:\n",
        "            flag = 1\n",
        "            temp_cam_id = i\n",
        "        if df2['has_kizu_ware'][i+k] == 0 and flag == 1:\n",
        "            df2['new_ware_kizu'][i+int((temp_cam_angle+k)/2)] = 1\n",
        "            flag = 0\n",
        "            temp_cam_angle = 0\n",
        "            \n",
        "ware_camera_num = [0 for _ in range(12)]\n",
        "for i in range(df2.shape[0]):\n",
        "    if df2['new_ware_kizu'][i] == 1:\n",
        "        ware_camera_num[int(df2['camera_angle'][i])] += 1\n",
        "\n",
        "        \n",
        "#zairyou \n",
        "df2['new_zairyou_kizu'] = 0\n",
        "for i in range(0,df2.shape[0],12):\n",
        "    flag = 0\n",
        "    temp_cam_angle = 0\n",
        "    for k in range(12):\n",
        "        if df2['has_kizu_zairyou'][i+k] == 1 and flag == 0:\n",
        "            flag = 1\n",
        "            temp_cam_id = i\n",
        "        if df2['has_kizu_zairyou'][i+k] == 0 and flag == 1:\n",
        "            df2['new_zairyou_kizu'][i+int((temp_cam_angle+k)/2)] = 1\n",
        "            flag = 0\n",
        "            temp_cam_angle = 0\n",
        "zairyou_camera_num = [0 for _ in range(12)]\n",
        "for i in range(df2.shape[0]):\n",
        "    if df2['new_zairyou_kizu'][i] == 1:\n",
        "        zairyou_camera_num[int(df2['camera_angle'][i])] += 1"
      ],
      "execution_count": null,
      "outputs": [
        {
          "output_type": "stream",
          "text": [
            "/usr/local/lib/python3.6/dist-packages/ipykernel_launcher.py:12: SettingWithCopyWarning: \n",
            "A value is trying to be set on a copy of a slice from a DataFrame\n",
            "\n",
            "See the caveats in the documentation: https://pandas.pydata.org/pandas-docs/stable/user_guide/indexing.html#returning-a-view-versus-a-copy\n",
            "  if sys.path[0] == '':\n",
            "/usr/local/lib/python3.6/dist-packages/ipykernel_launcher.py:32: SettingWithCopyWarning: \n",
            "A value is trying to be set on a copy of a slice from a DataFrame\n",
            "\n",
            "See the caveats in the documentation: https://pandas.pydata.org/pandas-docs/stable/user_guide/indexing.html#returning-a-view-versus-a-copy\n"
          ],
          "name": "stderr"
        }
      ]
    },
    {
      "cell_type": "code",
      "metadata": {
        "id": "dXRQdXJhWSu5",
        "outputId": "1870d303-a1ee-4b70-8088-9e5ad7ab2746",
        "colab": {
          "base_uri": "https://localhost:8080/",
          "height": 280
        }
      },
      "source": [
        "#plot the result\n",
        "x = [i for i in range(12)]\n",
        "plt.bar(x,dakon_camera_num)\n",
        "plt.xlabel(\"camera_angel\")\n",
        "plt.ylabel(\"# of dakon_kizu\")\n",
        "plt.savefig(\"Figure/#_of_dakon_kizu\")"
      ],
      "execution_count": null,
      "outputs": [
        {
          "output_type": "display_data",
          "data": {
            "image/png": "[encoded data removed]",
            "text/plain": [
              "<Figure size 432x288 with 1 Axes>"
            ]
          },
          "metadata": {
            "tags": [],
            "needs_background": "light"
          }
        }
      ]
    },
    {
      "cell_type": "code",
      "metadata": {
        "id": "lHW6gAwJWSu7",
        "outputId": "19cda562-19a8-4b77-a75e-f40d8abb78f9",
        "colab": {
          "base_uri": "https://localhost:8080/",
          "height": 297
        }
      },
      "source": [
        "#plot the result\n",
        "x = [i for i in range(12)]\n",
        "plt.bar(x,ware_camera_num)\n",
        "plt.xlabel(\"camera_angel\")\n",
        "plt.ylabel(\"# of ware_kizu\")\n",
        "plt.savefig(\"Figure/#_of_ware_kizu\")\n",
        "print(sum(ware_camera_num))"
      ],
      "execution_count": null,
      "outputs": [
        {
          "output_type": "stream",
          "text": [
            "2\n"
          ],
          "name": "stdout"
        },
        {
          "output_type": "display_data",
          "data": {
            "image/png": "[encoded data removed]",
            "text/plain": [
              "<Figure size 432x288 with 1 Axes>"
            ]
          },
          "metadata": {
            "tags": [],
            "needs_background": "light"
          }
        }
      ]
    },
    {
      "cell_type": "code",
      "metadata": {
        "id": "61W_rrdTWSu8",
        "outputId": "3930270c-cac6-4194-9ff6-af5c9633f3b6",
        "colab": {
          "base_uri": "https://localhost:8080/",
          "height": 280
        }
      },
      "source": [
        "#plot the result\n",
        "x = [i for i in range(12)]\n",
        "plt.bar(x,zairyou_camera_num)\n",
        "plt.xlabel(\"camera_angel\")\n",
        "plt.ylabel(\"# of zairyou_kizu\")\n",
        "plt.savefig(\"Figure/#_of_zairyou_kizu\")"
      ],
      "execution_count": null,
      "outputs": [
        {
          "output_type": "display_data",
          "data": {
            "image/png": "[encoded data removed]",
            "text/plain": [
              "<Figure size 432x288 with 1 Axes>"
            ]
          },
          "metadata": {
            "tags": [],
            "needs_background": "light"
          }
        }
      ]
    },
    {
      "cell_type": "code",
      "metadata": {
        "id": "f1VlPVKTWSu-"
      },
      "source": [
        ""
      ],
      "execution_count": null,
      "outputs": []
    },
    {
      "cell_type": "code",
      "metadata": {
        "id": "1JzzWh8bWSvA"
      },
      "source": [
        ""
      ],
      "execution_count": null,
      "outputs": []
    },
    {
      "cell_type": "code",
      "metadata": {
        "id": "zsYQrctHWSvC"
      },
      "source": [
        ""
      ],
      "execution_count": null,
      "outputs": []
    }
  ]
}